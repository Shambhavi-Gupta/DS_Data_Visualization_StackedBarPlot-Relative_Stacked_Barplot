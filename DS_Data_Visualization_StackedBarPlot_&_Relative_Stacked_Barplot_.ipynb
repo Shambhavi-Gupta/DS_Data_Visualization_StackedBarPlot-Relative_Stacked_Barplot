{
  "nbformat": 4,
  "nbformat_minor": 0,
  "metadata": {
    "colab": {
      "name": "DS_Data_Visualization_StackedBarPlot & Relative_Stacked_Barplot .ipynb",
      "provenance": [],
      "authorship_tag": "ABX9TyOrlJtQljlig9mAQzu7iuFy",
      "include_colab_link": true
    },
    "kernelspec": {
      "name": "python3",
      "display_name": "Python 3"
    }
  },
  "cells": [
    {
      "cell_type": "markdown",
      "metadata": {
        "id": "view-in-github",
        "colab_type": "text"
      },
      "source": [
        "<a href=\"https://colab.research.google.com/github/Shambhavi-Gupta/DS_Data_Visualization_StackedBarPlot-Relative_Stacked_Barplot/blob/master/DS_Data_Visualization_StackedBarPlot_%26_Relative_Stacked_Barplot_.ipynb\" target=\"_parent\"><img src=\"https://colab.research.google.com/assets/colab-badge.svg\" alt=\"Open In Colab\"/></a>"
      ]
    },
    {
      "cell_type": "code",
      "metadata": {
        "id": "fC_4b95j-Y2k",
        "colab_type": "code",
        "colab": {}
      },
      "source": [
        "import numpy as np\n",
        "import pandas as pd\n",
        "import matplotlib.pyplot as plt\n",
        "from matplotlib import style\n",
        "plt.style.use(['dark_background'])\n",
        "import seaborn as sns\n",
        "sns.set(color_codes=True)"
      ],
      "execution_count": 10,
      "outputs": []
    },
    {
      "cell_type": "code",
      "metadata": {
        "id": "FxhORbTQ-_t0",
        "colab_type": "code",
        "colab": {}
      },
      "source": [
        "url = 'https://api.covid19india.org/states_daily.json'"
      ],
      "execution_count": 11,
      "outputs": []
    },
    {
      "cell_type": "code",
      "metadata": {
        "id": "5Y0_PTdh_yZb",
        "colab_type": "code",
        "colab": {}
      },
      "source": [
        "import urllib.request"
      ],
      "execution_count": 12,
      "outputs": []
    },
    {
      "cell_type": "code",
      "metadata": {
        "id": "RPecv9KZBwdv",
        "colab_type": "code",
        "colab": {}
      },
      "source": [
        "import json"
      ],
      "execution_count": 14,
      "outputs": []
    },
    {
      "cell_type": "code",
      "metadata": {
        "id": "rJI3HxDl_18a",
        "colab_type": "code",
        "colab": {}
      },
      "source": [
        "url = 'https://api.covid19india.org/states_daily.json'\n",
        "urllib.request.urlretrieve(url ,'data.json')\n",
        "\n",
        "with open('data.json') as f:\n",
        "    data = json.load(f)\n",
        "data = data['states_daily']\n",
        "df= pd.json_normalize(data)    "
      ],
      "execution_count": 15,
      "outputs": []
    },
    {
      "cell_type": "code",
      "metadata": {
        "id": "HvKmQO0vDNVv",
        "colab_type": "code",
        "colab": {
          "base_uri": "https://localhost:8080/",
          "height": 394
        },
        "outputId": "33f788ee-9772-4cfa-ca2f-003a493cd8aa"
      },
      "source": [
        "df.tail()"
      ],
      "execution_count": 16,
      "outputs": [
        {
          "output_type": "execute_result",
          "data": {
            "text/html": [
              "<div>\n",
              "<style scoped>\n",
              "    .dataframe tbody tr th:only-of-type {\n",
              "        vertical-align: middle;\n",
              "    }\n",
              "\n",
              "    .dataframe tbody tr th {\n",
              "        vertical-align: top;\n",
              "    }\n",
              "\n",
              "    .dataframe thead th {\n",
              "        text-align: right;\n",
              "    }\n",
              "</style>\n",
              "<table border=\"1\" class=\"dataframe\">\n",
              "  <thead>\n",
              "    <tr style=\"text-align: right;\">\n",
              "      <th></th>\n",
              "      <th>an</th>\n",
              "      <th>ap</th>\n",
              "      <th>ar</th>\n",
              "      <th>as</th>\n",
              "      <th>br</th>\n",
              "      <th>ch</th>\n",
              "      <th>ct</th>\n",
              "      <th>date</th>\n",
              "      <th>dd</th>\n",
              "      <th>dl</th>\n",
              "      <th>dn</th>\n",
              "      <th>ga</th>\n",
              "      <th>gj</th>\n",
              "      <th>hp</th>\n",
              "      <th>hr</th>\n",
              "      <th>jh</th>\n",
              "      <th>jk</th>\n",
              "      <th>ka</th>\n",
              "      <th>kl</th>\n",
              "      <th>la</th>\n",
              "      <th>ld</th>\n",
              "      <th>mh</th>\n",
              "      <th>ml</th>\n",
              "      <th>mn</th>\n",
              "      <th>mp</th>\n",
              "      <th>mz</th>\n",
              "      <th>nl</th>\n",
              "      <th>or</th>\n",
              "      <th>pb</th>\n",
              "      <th>py</th>\n",
              "      <th>rj</th>\n",
              "      <th>sk</th>\n",
              "      <th>status</th>\n",
              "      <th>tg</th>\n",
              "      <th>tn</th>\n",
              "      <th>tr</th>\n",
              "      <th>tt</th>\n",
              "      <th>un</th>\n",
              "      <th>up</th>\n",
              "      <th>ut</th>\n",
              "      <th>wb</th>\n",
              "    </tr>\n",
              "  </thead>\n",
              "  <tbody>\n",
              "    <tr>\n",
              "      <th>367</th>\n",
              "      <td>20</td>\n",
              "      <td>1003</td>\n",
              "      <td>8</td>\n",
              "      <td>757</td>\n",
              "      <td>655</td>\n",
              "      <td>23</td>\n",
              "      <td>73</td>\n",
              "      <td>14-Jul-20</td>\n",
              "      <td>0</td>\n",
              "      <td>1924</td>\n",
              "      <td>33</td>\n",
              "      <td>67</td>\n",
              "      <td>749</td>\n",
              "      <td>11</td>\n",
              "      <td>453</td>\n",
              "      <td>77</td>\n",
              "      <td>128</td>\n",
              "      <td>1142</td>\n",
              "      <td>181</td>\n",
              "      <td>0</td>\n",
              "      <td>0</td>\n",
              "      <td>4500</td>\n",
              "      <td>0</td>\n",
              "      <td>50</td>\n",
              "      <td>367</td>\n",
              "      <td>8</td>\n",
              "      <td>6</td>\n",
              "      <td>609</td>\n",
              "      <td>77</td>\n",
              "      <td>44</td>\n",
              "      <td>539</td>\n",
              "      <td>-1</td>\n",
              "      <td>Recovered</td>\n",
              "      <td>1161</td>\n",
              "      <td>4743</td>\n",
              "      <td>63</td>\n",
              "      <td>20977</td>\n",
              "      <td>0</td>\n",
              "      <td>778</td>\n",
              "      <td>11</td>\n",
              "      <td>718</td>\n",
              "    </tr>\n",
              "    <tr>\n",
              "      <th>368</th>\n",
              "      <td>0</td>\n",
              "      <td>43</td>\n",
              "      <td>0</td>\n",
              "      <td>6</td>\n",
              "      <td>9</td>\n",
              "      <td>2</td>\n",
              "      <td>1</td>\n",
              "      <td>14-Jul-20</td>\n",
              "      <td>0</td>\n",
              "      <td>35</td>\n",
              "      <td>0</td>\n",
              "      <td>1</td>\n",
              "      <td>14</td>\n",
              "      <td>0</td>\n",
              "      <td>4</td>\n",
              "      <td>3</td>\n",
              "      <td>8</td>\n",
              "      <td>87</td>\n",
              "      <td>1</td>\n",
              "      <td>0</td>\n",
              "      <td>0</td>\n",
              "      <td>213</td>\n",
              "      <td>0</td>\n",
              "      <td>0</td>\n",
              "      <td>10</td>\n",
              "      <td>0</td>\n",
              "      <td>0</td>\n",
              "      <td>5</td>\n",
              "      <td>9</td>\n",
              "      <td>0</td>\n",
              "      <td>6</td>\n",
              "      <td>0</td>\n",
              "      <td>Deceased</td>\n",
              "      <td>10</td>\n",
              "      <td>67</td>\n",
              "      <td>0</td>\n",
              "      <td>587</td>\n",
              "      <td>0</td>\n",
              "      <td>28</td>\n",
              "      <td>1</td>\n",
              "      <td>24</td>\n",
              "    </tr>\n",
              "    <tr>\n",
              "      <th>369</th>\n",
              "      <td>5</td>\n",
              "      <td>2432</td>\n",
              "      <td>29</td>\n",
              "      <td>1088</td>\n",
              "      <td>1320</td>\n",
              "      <td>19</td>\n",
              "      <td>177</td>\n",
              "      <td>15-Jul-20</td>\n",
              "      <td>0</td>\n",
              "      <td>1647</td>\n",
              "      <td>17</td>\n",
              "      <td>198</td>\n",
              "      <td>925</td>\n",
              "      <td>32</td>\n",
              "      <td>678</td>\n",
              "      <td>337</td>\n",
              "      <td>493</td>\n",
              "      <td>3176</td>\n",
              "      <td>623</td>\n",
              "      <td>14</td>\n",
              "      <td>0</td>\n",
              "      <td>7975</td>\n",
              "      <td>19</td>\n",
              "      <td>28</td>\n",
              "      <td>638</td>\n",
              "      <td>0</td>\n",
              "      <td>6</td>\n",
              "      <td>618</td>\n",
              "      <td>288</td>\n",
              "      <td>65</td>\n",
              "      <td>866</td>\n",
              "      <td>11</td>\n",
              "      <td>Confirmed</td>\n",
              "      <td>1597</td>\n",
              "      <td>4496</td>\n",
              "      <td>98</td>\n",
              "      <td>32607</td>\n",
              "      <td>-655</td>\n",
              "      <td>1659</td>\n",
              "      <td>99</td>\n",
              "      <td>1589</td>\n",
              "    </tr>\n",
              "    <tr>\n",
              "      <th>370</th>\n",
              "      <td>1</td>\n",
              "      <td>911</td>\n",
              "      <td>0</td>\n",
              "      <td>715</td>\n",
              "      <td>514</td>\n",
              "      <td>13</td>\n",
              "      <td>49</td>\n",
              "      <td>15-Jul-20</td>\n",
              "      <td>0</td>\n",
              "      <td>2463</td>\n",
              "      <td>28</td>\n",
              "      <td>67</td>\n",
              "      <td>791</td>\n",
              "      <td>28</td>\n",
              "      <td>577</td>\n",
              "      <td>57</td>\n",
              "      <td>114</td>\n",
              "      <td>1076</td>\n",
              "      <td>196</td>\n",
              "      <td>18</td>\n",
              "      <td>0</td>\n",
              "      <td>3606</td>\n",
              "      <td>0</td>\n",
              "      <td>60</td>\n",
              "      <td>333</td>\n",
              "      <td>0</td>\n",
              "      <td>2</td>\n",
              "      <td>612</td>\n",
              "      <td>204</td>\n",
              "      <td>60</td>\n",
              "      <td>333</td>\n",
              "      <td>1</td>\n",
              "      <td>Recovered</td>\n",
              "      <td>1159</td>\n",
              "      <td>5000</td>\n",
              "      <td>66</td>\n",
              "      <td>20646</td>\n",
              "      <td>0</td>\n",
              "      <td>762</td>\n",
              "      <td>81</td>\n",
              "      <td>749</td>\n",
              "    </tr>\n",
              "    <tr>\n",
              "      <th>371</th>\n",
              "      <td>0</td>\n",
              "      <td>44</td>\n",
              "      <td>0</td>\n",
              "      <td>2</td>\n",
              "      <td>14</td>\n",
              "      <td>1</td>\n",
              "      <td>0</td>\n",
              "      <td>15-Jul-20</td>\n",
              "      <td>0</td>\n",
              "      <td>41</td>\n",
              "      <td>1</td>\n",
              "      <td>0</td>\n",
              "      <td>10</td>\n",
              "      <td>0</td>\n",
              "      <td>7</td>\n",
              "      <td>2</td>\n",
              "      <td>11</td>\n",
              "      <td>87</td>\n",
              "      <td>1</td>\n",
              "      <td>0</td>\n",
              "      <td>0</td>\n",
              "      <td>233</td>\n",
              "      <td>0</td>\n",
              "      <td>0</td>\n",
              "      <td>9</td>\n",
              "      <td>0</td>\n",
              "      <td>0</td>\n",
              "      <td>5</td>\n",
              "      <td>8</td>\n",
              "      <td>3</td>\n",
              "      <td>6</td>\n",
              "      <td>0</td>\n",
              "      <td>Deceased</td>\n",
              "      <td>11</td>\n",
              "      <td>68</td>\n",
              "      <td>1</td>\n",
              "      <td>614</td>\n",
              "      <td>0</td>\n",
              "      <td>29</td>\n",
              "      <td>0</td>\n",
              "      <td>20</td>\n",
              "    </tr>\n",
              "  </tbody>\n",
              "</table>\n",
              "</div>"
            ],
            "text/plain": [
              "     an    ap  ar    as    br  ch   ct  ...    tn  tr     tt    un    up  ut    wb\n",
              "367  20  1003   8   757   655  23   73  ...  4743  63  20977     0   778  11   718\n",
              "368   0    43   0     6     9   2    1  ...    67   0    587     0    28   1    24\n",
              "369   5  2432  29  1088  1320  19  177  ...  4496  98  32607  -655  1659  99  1589\n",
              "370   1   911   0   715   514  13   49  ...  5000  66  20646     0   762  81   749\n",
              "371   0    44   0     2    14   1    0  ...    68   1    614     0    29   0    20\n",
              "\n",
              "[5 rows x 41 columns]"
            ]
          },
          "metadata": {
            "tags": []
          },
          "execution_count": 16
        }
      ]
    },
    {
      "cell_type": "markdown",
      "metadata": {
        "id": "zfhQF5oEiMS7",
        "colab_type": "text"
      },
      "source": [
        "## Stacked Barplot"
      ]
    },
    {
      "cell_type": "code",
      "metadata": {
        "id": "_VoDpNIvAO3-",
        "colab_type": "code",
        "colab": {
          "base_uri": "https://localhost:8080/",
          "height": 122
        },
        "outputId": "aa6799e9-386e-4a1b-c586-0b258d813f51"
      },
      "source": [
        "df_ = df.tail(3)\n",
        "df_.drop('date', axis=1, inplace=True)\n",
        "df_.set_index('status', inplace=True)\n",
        "df_ = df_.T\n",
        "df_ = df_.apply(pd.to_numeric)\n",
        "df_.drop('tt', inplace=True)"
      ],
      "execution_count": 17,
      "outputs": [
        {
          "output_type": "stream",
          "text": [
            "/usr/local/lib/python3.6/dist-packages/pandas/core/frame.py:3997: SettingWithCopyWarning: \n",
            "A value is trying to be set on a copy of a slice from a DataFrame\n",
            "\n",
            "See the caveats in the documentation: https://pandas.pydata.org/pandas-docs/stable/user_guide/indexing.html#returning-a-view-versus-a-copy\n",
            "  errors=errors,\n"
          ],
          "name": "stderr"
        }
      ]
    },
    {
      "cell_type": "code",
      "metadata": {
        "id": "8ZMZHpQvCZBf",
        "colab_type": "code",
        "colab": {
          "base_uri": "https://localhost:8080/",
          "height": 204
        },
        "outputId": "ca11afc6-c41c-4bf6-d5f4-f887e5ae795f"
      },
      "source": [
        "df_.head()"
      ],
      "execution_count": 18,
      "outputs": [
        {
          "output_type": "execute_result",
          "data": {
            "text/html": [
              "<div>\n",
              "<style scoped>\n",
              "    .dataframe tbody tr th:only-of-type {\n",
              "        vertical-align: middle;\n",
              "    }\n",
              "\n",
              "    .dataframe tbody tr th {\n",
              "        vertical-align: top;\n",
              "    }\n",
              "\n",
              "    .dataframe thead th {\n",
              "        text-align: right;\n",
              "    }\n",
              "</style>\n",
              "<table border=\"1\" class=\"dataframe\">\n",
              "  <thead>\n",
              "    <tr style=\"text-align: right;\">\n",
              "      <th>status</th>\n",
              "      <th>Confirmed</th>\n",
              "      <th>Recovered</th>\n",
              "      <th>Deceased</th>\n",
              "    </tr>\n",
              "  </thead>\n",
              "  <tbody>\n",
              "    <tr>\n",
              "      <th>an</th>\n",
              "      <td>5</td>\n",
              "      <td>1</td>\n",
              "      <td>0</td>\n",
              "    </tr>\n",
              "    <tr>\n",
              "      <th>ap</th>\n",
              "      <td>2432</td>\n",
              "      <td>911</td>\n",
              "      <td>44</td>\n",
              "    </tr>\n",
              "    <tr>\n",
              "      <th>ar</th>\n",
              "      <td>29</td>\n",
              "      <td>0</td>\n",
              "      <td>0</td>\n",
              "    </tr>\n",
              "    <tr>\n",
              "      <th>as</th>\n",
              "      <td>1088</td>\n",
              "      <td>715</td>\n",
              "      <td>2</td>\n",
              "    </tr>\n",
              "    <tr>\n",
              "      <th>br</th>\n",
              "      <td>1320</td>\n",
              "      <td>514</td>\n",
              "      <td>14</td>\n",
              "    </tr>\n",
              "  </tbody>\n",
              "</table>\n",
              "</div>"
            ],
            "text/plain": [
              "status  Confirmed  Recovered  Deceased\n",
              "an              5          1         0\n",
              "ap           2432        911        44\n",
              "ar             29          0         0\n",
              "as           1088        715         2\n",
              "br           1320        514        14"
            ]
          },
          "metadata": {
            "tags": []
          },
          "execution_count": 18
        }
      ]
    },
    {
      "cell_type": "code",
      "metadata": {
        "id": "c_YK9AE9DCUp",
        "colab_type": "code",
        "colab": {
          "base_uri": "https://localhost:8080/",
          "height": 276
        },
        "outputId": "5ec9d8d3-0c01-4835-f5b5-ba8e3b044f8e"
      },
      "source": [
        "plt.bar(df_.index ,df_.Confirmed);\n",
        "plt.bar(df_.index, df_.Recovered, bottom=df_.Confirmed)\n",
        "plt.bar(df_.index, df_.Deceased, bottom=df_.Confirmed + df_.Recovered)\n",
        "plt.xticks(rotation=90);"
      ],
      "execution_count": 19,
      "outputs": [
        {
          "output_type": "display_data",
          "data": {
            "image/png": "[encoded data removed]",
            "text/plain": [
              "<Figure size 432x288 with 1 Axes>"
            ]
          },
          "metadata": {
            "tags": []
          }
        }
      ]
    },
    {
      "cell_type": "code",
      "metadata": {
        "id": "0_3fKlm7DrIn",
        "colab_type": "code",
        "colab": {
          "base_uri": "https://localhost:8080/",
          "height": 312
        },
        "outputId": "dde3587f-47a2-47f2-dd86-413b46d98319"
      },
      "source": [
        "fig = plt.gcf();\n",
        "fig.set_size_inches(20, 6);\n",
        "plt.bar(df_.index ,df_.Confirmed);\n",
        "plt.bar(df_.index, df_.Recovered, bottom=df_.Confirmed)\n",
        "plt.bar(df_.index, df_.Deceased, bottom=df_.Confirmed + df_.Recovered)\n",
        "plt.xticks(rotation=90);"
      ],
      "execution_count": 20,
      "outputs": [
        {
          "output_type": "display_data",
          "data": {
            "image/png": "[encoded data removed]",
            "text/plain": [
              "<Figure size 1440x432 with 1 Axes>"
            ]
          },
          "metadata": {
            "tags": []
          }
        }
      ]
    },
    {
      "cell_type": "code",
      "metadata": {
        "id": "vGolb0rNFZGT",
        "colab_type": "code",
        "colab": {
          "base_uri": "https://localhost:8080/",
          "height": 312
        },
        "outputId": "b1cc5d99-5f61-4ef1-9ab9-8919d494f90f"
      },
      "source": [
        "fig = plt.gcf();\n",
        "fig.set_size_inches(20, 6);\n",
        "plt.bar(df_.index ,df_.Confirmed, color = 'Orange');\n",
        "plt.bar(df_.index, df_.Recovered, bottom=df_.Confirmed, color = 'Green')\n",
        "plt.bar(df_.index, df_.Deceased, bottom=df_.Confirmed + df_.Recovered, color = 'Red')\n",
        "plt.xticks(rotation=90);"
      ],
      "execution_count": 21,
      "outputs": [
        {
          "output_type": "display_data",
          "data": {
            "image/png": "[encoded data removed]",
            "text/plain": [
              "<Figure size 1440x432 with 1 Axes>"
            ]
          },
          "metadata": {
            "tags": []
          }
        }
      ]
    },
    {
      "cell_type": "code",
      "metadata": {
        "id": "PK_3uygxF3Ud",
        "colab_type": "code",
        "colab": {
          "base_uri": "https://localhost:8080/",
          "height": 312
        },
        "outputId": "7e08ec81-a20f-4787-fc64-6478341116b0"
      },
      "source": [
        "fig = plt.gcf();\n",
        "fig.set_size_inches(20, 6);\n",
        "plt.bar(df_.index ,df_.Confirmed, color = 'Orange');\n",
        "plt.bar(df_.index, df_.Recovered, bottom=df_.Confirmed, color = 'Green')\n",
        "plt.bar(df_.index, df_.Deceased, bottom=df_.Confirmed + df_.Recovered, color = 'Red')\n",
        "plt.xticks(rotation=90);\n",
        "\n",
        "for i, val in enumerate(df_.index):\n",
        "    y = df_.loc[val].sum() + 100\n",
        "    x = i\n",
        "    plt.text(x, y, str(y), ha='center');"
      ],
      "execution_count": 22,
      "outputs": [
        {
          "output_type": "display_data",
          "data": {
            "image/png": "[encoded data removed]",
            "text/plain": [
              "<Figure size 1440x432 with 1 Axes>"
            ]
          },
          "metadata": {
            "tags": []
          }
        }
      ]
    },
    {
      "cell_type": "code",
      "metadata": {
        "id": "T0xVit-jiW9i",
        "colab_type": "code",
        "colab": {
          "base_uri": "https://localhost:8080/",
          "height": 312
        },
        "outputId": "3e0fd8c8-6e6c-4461-dc79-92f621e08cf5"
      },
      "source": [
        "fig = plt.gcf();\n",
        "fig.set_size_inches(20, 6);\n",
        "plt.bar(df_.index ,df_.Confirmed, color = 'Orange');\n",
        "plt.bar(df_.index, df_.Recovered, bottom=df_.Confirmed, color = 'Green')\n",
        "plt.bar(df_.index, df_.Deceased, bottom=df_.Confirmed + df_.Recovered, color = 'Red')\n",
        "plt.xticks(rotation=90);\n",
        "\n",
        "for i, val in enumerate(df_.index):\n",
        "    y = df_.loc[val].sum() + 100\n",
        "    if y > 1000:\n",
        "        x = i\n",
        "        plt.text(x, y, str(y), ha='center');"
      ],
      "execution_count": 23,
      "outputs": [
        {
          "output_type": "display_data",
          "data": {
            "image/png": "[encoded data removed]",
            "text/plain": [
              "<Figure size 1440x432 with 1 Axes>"
            ]
          },
          "metadata": {
            "tags": []
          }
        }
      ]
    },
    {
      "cell_type": "markdown",
      "metadata": {
        "id": "8nMnhYdCiDwR",
        "colab_type": "text"
      },
      "source": [
        "## Relative Stacked Barplot"
      ]
    },
    {
      "cell_type": "code",
      "metadata": {
        "id": "LLJDAAS1GgOi",
        "colab_type": "code",
        "colab": {
          "base_uri": "https://localhost:8080/",
          "height": 204
        },
        "outputId": "d2d72d58-d833-4218-8354-24d86fb75599"
      },
      "source": [
        "df_.head()"
      ],
      "execution_count": 24,
      "outputs": [
        {
          "output_type": "execute_result",
          "data": {
            "text/html": [
              "<div>\n",
              "<style scoped>\n",
              "    .dataframe tbody tr th:only-of-type {\n",
              "        vertical-align: middle;\n",
              "    }\n",
              "\n",
              "    .dataframe tbody tr th {\n",
              "        vertical-align: top;\n",
              "    }\n",
              "\n",
              "    .dataframe thead th {\n",
              "        text-align: right;\n",
              "    }\n",
              "</style>\n",
              "<table border=\"1\" class=\"dataframe\">\n",
              "  <thead>\n",
              "    <tr style=\"text-align: right;\">\n",
              "      <th>status</th>\n",
              "      <th>Confirmed</th>\n",
              "      <th>Recovered</th>\n",
              "      <th>Deceased</th>\n",
              "    </tr>\n",
              "  </thead>\n",
              "  <tbody>\n",
              "    <tr>\n",
              "      <th>an</th>\n",
              "      <td>5</td>\n",
              "      <td>1</td>\n",
              "      <td>0</td>\n",
              "    </tr>\n",
              "    <tr>\n",
              "      <th>ap</th>\n",
              "      <td>2432</td>\n",
              "      <td>911</td>\n",
              "      <td>44</td>\n",
              "    </tr>\n",
              "    <tr>\n",
              "      <th>ar</th>\n",
              "      <td>29</td>\n",
              "      <td>0</td>\n",
              "      <td>0</td>\n",
              "    </tr>\n",
              "    <tr>\n",
              "      <th>as</th>\n",
              "      <td>1088</td>\n",
              "      <td>715</td>\n",
              "      <td>2</td>\n",
              "    </tr>\n",
              "    <tr>\n",
              "      <th>br</th>\n",
              "      <td>1320</td>\n",
              "      <td>514</td>\n",
              "      <td>14</td>\n",
              "    </tr>\n",
              "  </tbody>\n",
              "</table>\n",
              "</div>"
            ],
            "text/plain": [
              "status  Confirmed  Recovered  Deceased\n",
              "an              5          1         0\n",
              "ap           2432        911        44\n",
              "ar             29          0         0\n",
              "as           1088        715         2\n",
              "br           1320        514        14"
            ]
          },
          "metadata": {
            "tags": []
          },
          "execution_count": 24
        }
      ]
    },
    {
      "cell_type": "code",
      "metadata": {
        "id": "FSIabcAli5AP",
        "colab_type": "code",
        "colab": {}
      },
      "source": [
        "df_['Total'] = 0"
      ],
      "execution_count": 25,
      "outputs": []
    },
    {
      "cell_type": "code",
      "metadata": {
        "id": "O6bgO-LxjCIi",
        "colab_type": "code",
        "colab": {}
      },
      "source": [
        "df_['Total'] = df_.sum(axis =1)"
      ],
      "execution_count": 26,
      "outputs": []
    },
    {
      "cell_type": "code",
      "metadata": {
        "id": "UGX8aypMjH4m",
        "colab_type": "code",
        "colab": {
          "base_uri": "https://localhost:8080/",
          "height": 204
        },
        "outputId": "226cf8c2-033b-4eda-991e-6ade666167c7"
      },
      "source": [
        "df_.head()"
      ],
      "execution_count": 27,
      "outputs": [
        {
          "output_type": "execute_result",
          "data": {
            "text/html": [
              "<div>\n",
              "<style scoped>\n",
              "    .dataframe tbody tr th:only-of-type {\n",
              "        vertical-align: middle;\n",
              "    }\n",
              "\n",
              "    .dataframe tbody tr th {\n",
              "        vertical-align: top;\n",
              "    }\n",
              "\n",
              "    .dataframe thead th {\n",
              "        text-align: right;\n",
              "    }\n",
              "</style>\n",
              "<table border=\"1\" class=\"dataframe\">\n",
              "  <thead>\n",
              "    <tr style=\"text-align: right;\">\n",
              "      <th>status</th>\n",
              "      <th>Confirmed</th>\n",
              "      <th>Recovered</th>\n",
              "      <th>Deceased</th>\n",
              "      <th>Total</th>\n",
              "    </tr>\n",
              "  </thead>\n",
              "  <tbody>\n",
              "    <tr>\n",
              "      <th>an</th>\n",
              "      <td>5</td>\n",
              "      <td>1</td>\n",
              "      <td>0</td>\n",
              "      <td>6</td>\n",
              "    </tr>\n",
              "    <tr>\n",
              "      <th>ap</th>\n",
              "      <td>2432</td>\n",
              "      <td>911</td>\n",
              "      <td>44</td>\n",
              "      <td>3387</td>\n",
              "    </tr>\n",
              "    <tr>\n",
              "      <th>ar</th>\n",
              "      <td>29</td>\n",
              "      <td>0</td>\n",
              "      <td>0</td>\n",
              "      <td>29</td>\n",
              "    </tr>\n",
              "    <tr>\n",
              "      <th>as</th>\n",
              "      <td>1088</td>\n",
              "      <td>715</td>\n",
              "      <td>2</td>\n",
              "      <td>1805</td>\n",
              "    </tr>\n",
              "    <tr>\n",
              "      <th>br</th>\n",
              "      <td>1320</td>\n",
              "      <td>514</td>\n",
              "      <td>14</td>\n",
              "      <td>1848</td>\n",
              "    </tr>\n",
              "  </tbody>\n",
              "</table>\n",
              "</div>"
            ],
            "text/plain": [
              "status  Confirmed  Recovered  Deceased  Total\n",
              "an              5          1         0      6\n",
              "ap           2432        911        44   3387\n",
              "ar             29          0         0     29\n",
              "as           1088        715         2   1805\n",
              "br           1320        514        14   1848"
            ]
          },
          "metadata": {
            "tags": []
          },
          "execution_count": 27
        }
      ]
    },
    {
      "cell_type": "code",
      "metadata": {
        "id": "_I8tjORSjMMt",
        "colab_type": "code",
        "colab": {}
      },
      "source": [
        "df_['ConfirmedFraction'] = df_['Confirmed'] / df_['Total']\n",
        "df_['RecoveredFraction'] = df_['Recovered'] / df_['Total']\n",
        "df_['DeceasedFraction'] = df_['Deceased'] / df_['Total']"
      ],
      "execution_count": 30,
      "outputs": []
    },
    {
      "cell_type": "code",
      "metadata": {
        "id": "KNP0wBZwjgZT",
        "colab_type": "code",
        "colab": {
          "base_uri": "https://localhost:8080/",
          "height": 204
        },
        "outputId": "6fbec2e9-84b1-4a42-c516-dc25a0cfbba0"
      },
      "source": [
        "df_.head()"
      ],
      "execution_count": 31,
      "outputs": [
        {
          "output_type": "execute_result",
          "data": {
            "text/html": [
              "<div>\n",
              "<style scoped>\n",
              "    .dataframe tbody tr th:only-of-type {\n",
              "        vertical-align: middle;\n",
              "    }\n",
              "\n",
              "    .dataframe tbody tr th {\n",
              "        vertical-align: top;\n",
              "    }\n",
              "\n",
              "    .dataframe thead th {\n",
              "        text-align: right;\n",
              "    }\n",
              "</style>\n",
              "<table border=\"1\" class=\"dataframe\">\n",
              "  <thead>\n",
              "    <tr style=\"text-align: right;\">\n",
              "      <th>status</th>\n",
              "      <th>Confirmed</th>\n",
              "      <th>Recovered</th>\n",
              "      <th>Deceased</th>\n",
              "      <th>Total</th>\n",
              "      <th>ConfirmedFraction</th>\n",
              "      <th>RecoveredFraction</th>\n",
              "      <th>DeceasedFraction</th>\n",
              "    </tr>\n",
              "  </thead>\n",
              "  <tbody>\n",
              "    <tr>\n",
              "      <th>an</th>\n",
              "      <td>5</td>\n",
              "      <td>1</td>\n",
              "      <td>0</td>\n",
              "      <td>6</td>\n",
              "      <td>0.833333</td>\n",
              "      <td>0.166667</td>\n",
              "      <td>0.000000</td>\n",
              "    </tr>\n",
              "    <tr>\n",
              "      <th>ap</th>\n",
              "      <td>2432</td>\n",
              "      <td>911</td>\n",
              "      <td>44</td>\n",
              "      <td>3387</td>\n",
              "      <td>0.718040</td>\n",
              "      <td>0.268970</td>\n",
              "      <td>0.012991</td>\n",
              "    </tr>\n",
              "    <tr>\n",
              "      <th>ar</th>\n",
              "      <td>29</td>\n",
              "      <td>0</td>\n",
              "      <td>0</td>\n",
              "      <td>29</td>\n",
              "      <td>1.000000</td>\n",
              "      <td>0.000000</td>\n",
              "      <td>0.000000</td>\n",
              "    </tr>\n",
              "    <tr>\n",
              "      <th>as</th>\n",
              "      <td>1088</td>\n",
              "      <td>715</td>\n",
              "      <td>2</td>\n",
              "      <td>1805</td>\n",
              "      <td>0.602770</td>\n",
              "      <td>0.396122</td>\n",
              "      <td>0.001108</td>\n",
              "    </tr>\n",
              "    <tr>\n",
              "      <th>br</th>\n",
              "      <td>1320</td>\n",
              "      <td>514</td>\n",
              "      <td>14</td>\n",
              "      <td>1848</td>\n",
              "      <td>0.714286</td>\n",
              "      <td>0.278139</td>\n",
              "      <td>0.007576</td>\n",
              "    </tr>\n",
              "  </tbody>\n",
              "</table>\n",
              "</div>"
            ],
            "text/plain": [
              "status  Confirmed  Recovered  ...  RecoveredFraction  DeceasedFraction\n",
              "an              5          1  ...           0.166667          0.000000\n",
              "ap           2432        911  ...           0.268970          0.012991\n",
              "ar             29          0  ...           0.000000          0.000000\n",
              "as           1088        715  ...           0.396122          0.001108\n",
              "br           1320        514  ...           0.278139          0.007576\n",
              "\n",
              "[5 rows x 7 columns]"
            ]
          },
          "metadata": {
            "tags": []
          },
          "execution_count": 31
        }
      ]
    },
    {
      "cell_type": "code",
      "metadata": {
        "id": "HMeZFANrjjH0",
        "colab_type": "code",
        "colab": {
          "base_uri": "https://localhost:8080/",
          "height": 319
        },
        "outputId": "87d72661-bf86-4491-d5f4-ea595a835031"
      },
      "source": [
        "fig = plt.gcf();\n",
        "fig.set_size_inches(20, 6);\n",
        "plt.bar(df_.index ,df_.ConfirmedFraction, color = 'Orange');\n",
        "plt.bar(df_.index, df_.RecoveredFraction, bottom=df_.ConfirmedFraction, color = 'Green')\n",
        "plt.bar(df_.index, df_.DeceasedFraction, bottom=df_.ConfirmedFraction + df_.RecoveredFraction, color = 'Red')\n",
        "plt.xticks(rotation=90);"
      ],
      "execution_count": 32,
      "outputs": [
        {
          "output_type": "display_data",
          "data": {
            "image/png": "[encoded data removed]",
            "text/plain": [
              "<Figure size 1440x432 with 1 Axes>"
            ]
          },
          "metadata": {
            "tags": []
          }
        }
      ]
    },
    {
      "cell_type": "code",
      "metadata": {
        "id": "v7oZNsyEkdcA",
        "colab_type": "code",
        "colab": {}
      },
      "source": [
        "df_ = df_.sort_values('ConfirmedFraction' , ascending=False)"
      ],
      "execution_count": 33,
      "outputs": []
    },
    {
      "cell_type": "code",
      "metadata": {
        "id": "oE4DR-HZk7Ox",
        "colab_type": "code",
        "colab": {
          "base_uri": "https://localhost:8080/",
          "height": 319
        },
        "outputId": "84030f45-f254-4071-cc5b-e07120ffc369"
      },
      "source": [
        "fig = plt.gcf();\n",
        "fig.set_size_inches(20, 6);\n",
        "plt.bar(df_.index ,df_.ConfirmedFraction, color = 'Orange');\n",
        "plt.bar(df_.index, df_.RecoveredFraction, bottom=df_.ConfirmedFraction, color = 'Green')\n",
        "plt.bar(df_.index, df_.DeceasedFraction, bottom=df_.ConfirmedFraction + df_.RecoveredFraction, color = 'Red')\n",
        "plt.xticks(rotation=90);"
      ],
      "execution_count": 34,
      "outputs": [
        {
          "output_type": "display_data",
          "data": {
            "image/png": "[encoded data removed]",
            "text/plain": [
              "<Figure size 1440x432 with 1 Axes>"
            ]
          },
          "metadata": {
            "tags": []
          }
        }
      ]
    },
    {
      "cell_type": "code",
      "metadata": {
        "id": "pEkQGRRMlAOE",
        "colab_type": "code",
        "colab": {
          "base_uri": "https://localhost:8080/",
          "height": 312
        },
        "outputId": "4e295459-eab2-49a2-9d8c-f4927eca4ab1"
      },
      "source": [
        "df_ = df_.sort_values('Total' , ascending = False)\n",
        "fig = plt.gcf();\n",
        "fig.set_size_inches(20, 6);\n",
        "plt.bar(df_.index ,df_.Confirmed, color = 'Orange');\n",
        "plt.bar(df_.index, df_.Recovered, bottom=df_.Confirmed, color = 'Green')\n",
        "plt.bar(df_.index, df_.Deceased, bottom=df_.Confirmed + df_.Recovered, color = 'Red')\n",
        "plt.xticks(rotation=90);\n",
        "\n",
        "for i, val in enumerate(df_.index):\n",
        "    y = df_.loc[val , 'Total'] + 100\n",
        "    if y > 1000:\n",
        "        x = i\n",
        "        plt.text(x, y, str(y), ha='center');"
      ],
      "execution_count": 35,
      "outputs": [
        {
          "output_type": "display_data",
          "data": {
            "image/png": "[encoded data removed]",
            "text/plain": [
              "<Figure size 1440x432 with 1 Axes>"
            ]
          },
          "metadata": {
            "tags": []
          }
        }
      ]
    },
    {
      "cell_type": "code",
      "metadata": {
        "id": "8ndE-gDDl5d-",
        "colab_type": "code",
        "colab": {
          "base_uri": "https://localhost:8080/",
          "height": 331
        },
        "outputId": "6d01f564-8adc-4c3f-f300-3f8ecacdeaf7"
      },
      "source": [
        "df_ = df_.sort_values('Total' , ascending = False)\n",
        "fig = plt.gcf();\n",
        "fig.set_size_inches(20, 6);\n",
        "plt.barh(df_.index ,df_.Confirmed, color = 'Orange');\n",
        "plt.barh(df_.index, df_.Recovered, left=df_.Confirmed, color = 'Green')\n",
        "plt.barh(df_.index, df_.Deceased, left=df_.Confirmed + df_.Recovered, color = 'Red')\n",
        "plt.xticks(rotation=90);\n"
      ],
      "execution_count": 36,
      "outputs": [
        {
          "output_type": "display_data",
          "data": {
            "image/png": "[encoded data removed]",
            "text/plain": [
              "<Figure size 1440x432 with 1 Axes>"
            ]
          },
          "metadata": {
            "tags": []
          }
        }
      ]
    },
    {
      "cell_type": "code",
      "metadata": {
        "id": "xuWq6UcomLcV",
        "colab_type": "code",
        "colab": {}
      },
      "source": [
        ""
      ],
      "execution_count": null,
      "outputs": []
    }
  ]
}